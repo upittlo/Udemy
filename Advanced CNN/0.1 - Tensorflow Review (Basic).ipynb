{
 "cells": [
  {
   "cell_type": "code",
   "execution_count": 4,
   "metadata": {},
   "outputs": [],
   "source": [
    "import numpy as np\n",
    "import tensorflow as tf"
   ]
  },
  {
   "cell_type": "markdown",
   "metadata": {},
   "source": [
    "#### Placeholder\n",
    "\n",
    "- have to specify the type\n",
    "- shape and name are optional\n",
    "- tf.matmul 矩陣相乘"
   ]
  },
  {
   "cell_type": "code",
   "execution_count": 6,
   "metadata": {},
   "outputs": [
    {
     "name": "stdout",
     "output_type": "stream",
     "text": [
      "[[ 0.35188133]\n",
      " [ 2.7099147 ]\n",
      " [ 5.0835776 ]\n",
      " [ 1.9446039 ]\n",
      " [-1.9593213 ]] <class 'numpy.ndarray'>\n"
     ]
    }
   ],
   "source": [
    "\n",
    "A = tf.placeholder(tf.float32,shape = (5,5),name ='A')\n",
    "v = tf.placeholder(tf.float32)\n",
    "\n",
    "w = tf.matmul(A,v)\n",
    "\n",
    "# similar to Theano, you need to \"feed\" the variables values.\n",
    "# In TensorFlow you do the \"actual work\" in a \"session\".\n",
    "\n",
    "with tf.Session() as sess:\n",
    "    # the values are fed in via the appropriately named argument \"feed_dict\"\n",
    "    # v needs to be of shape=(5, 1) not just shape=(5,)\n",
    "    # it's more like \"real\" matrix multiplication\n",
    "    output = sess.run(w,feed_dict= {A: np.random.randn(5,5), v: np.random.randn(5,1)})\n",
    "    # what's this output that is returned by the session? let's print it    \n",
    "    print(output,type(output))\n",
    "    # luckily, the output type is just a numpy array. back to safety\n",
    "    \n",
    "    "
   ]
  },
  {
   "cell_type": "markdown",
   "metadata": {},
   "source": [
    "#### Variable\n",
    "\n",
    "- A tf variable can be initialized with a numpy array or a tf array or more correctly, anything that can be turned into a tf tensor\n",
    "- need to \"initialize\" the variables first"
   ]
  },
  {
   "cell_type": "code",
   "execution_count": 8,
   "metadata": {},
   "outputs": [
    {
     "name": "stdout",
     "output_type": "stream",
     "text": [
      "None\n",
      "[[ 1.3097035  -0.243395  ]\n",
      " [-1.0031308  -0.01452789]]\n",
      "0\n"
     ]
    }
   ],
   "source": [
    "shape =(2,2)\n",
    "x = tf.Variable(tf.random_normal(shape))\n",
    "t = tf.Variable(0) # a scalar\n",
    "\n",
    "init = tf.global_variables_initializer()\n",
    "\n",
    "with tf.Session() as sess:\n",
    "    out = sess.run(init) # and then \"run\" the init operation\n",
    "    print(out)\n",
    "    \n",
    "    # # eval() in tf is like get_value()\n",
    "    print(x.eval())\n",
    "    print(t.eval())\n",
    "\n",
    "    \n",
    "    \n",
    "    "
   ]
  },
  {
   "cell_type": "markdown",
   "metadata": {},
   "source": [
    "#### Optimize cost function\n",
    "\n",
    "-  0.3 is the learning rate."
   ]
  },
  {
   "cell_type": "code",
   "execution_count": 12,
   "metadata": {},
   "outputs": [
    {
     "name": "stdout",
     "output_type": "stream",
     "text": [
      "i = 0, cost = 67.990, u = 7.700\n",
      "i = 1, cost = 11.508, u = 2.780\n",
      "i = 2, cost = 2.471, u = 0.812\n",
      "i = 3, cost = 1.025, u = 0.025\n",
      "i = 4, cost = 0.794, u = -0.290\n",
      "i = 5, cost = 0.757, u = -0.416\n",
      "i = 6, cost = 0.751, u = -0.466\n",
      "i = 7, cost = 0.750, u = -0.487\n",
      "i = 8, cost = 0.750, u = -0.495\n",
      "i = 9, cost = 0.750, u = -0.498\n",
      "i = 10, cost = 0.750, u = -0.499\n",
      "i = 11, cost = 0.750, u = -0.500\n"
     ]
    }
   ],
   "source": [
    "u = tf.Variable(20.0)\n",
    "cost = u*u+u+1.0\n",
    "\n",
    "train_op = tf.train.GradientDescentOptimizer(0.3).minimize(cost)\n",
    "init = tf.global_variables_initializer()\n",
    "with tf.Session() as sess:\n",
    "    sess.run(init)\n",
    "    # Strangely, while the weight update is automated, the loop itself is not.\n",
    "    # So we'll just call train_op until convergence.\n",
    "    # This is useful for us anyway since we want to track the cost function.\n",
    "    \n",
    "    for i in range(12):\n",
    "        sess.run(train_op)\n",
    "        print(\"i = %d, cost = %.3f, u = %.3f\" % (i,cost.eval(),u.eval()))\n",
    "    \n"
   ]
  },
  {
   "cell_type": "code",
   "execution_count": null,
   "metadata": {},
   "outputs": [],
   "source": []
  }
 ],
 "metadata": {
  "kernelspec": {
   "display_name": "Python 3",
   "language": "python",
   "name": "python3"
  },
  "language_info": {
   "codemirror_mode": {
    "name": "ipython",
    "version": 3
   },
   "file_extension": ".py",
   "mimetype": "text/x-python",
   "name": "python",
   "nbconvert_exporter": "python",
   "pygments_lexer": "ipython3",
   "version": "3.5.5"
  }
 },
 "nbformat": 4,
 "nbformat_minor": 2
}
