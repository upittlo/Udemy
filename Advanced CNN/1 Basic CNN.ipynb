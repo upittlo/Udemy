{
 "cells": [
  {
   "cell_type": "code",
   "execution_count": 1,
   "metadata": {},
   "outputs": [
    {
     "name": "stderr",
     "output_type": "stream",
     "text": [
      "Using TensorFlow backend.\n"
     ]
    }
   ],
   "source": [
    "from __future__ import print_function, division\n",
    "from builtins import range\n",
    "# Note: you may need to update your version of future\n",
    "# sudo pip install -U future\n",
    "\n",
    "from keras.models import Sequential\n",
    "from keras.layers import Dense, Activation, Conv2D,MaxPooling2D, Flatten,Dropout, BatchNormalization\n",
    "\n",
    "import matplotlib.pyplot as plt\n",
    "import pandas as pd\n",
    "import numpy as np"
   ]
  },
  {
   "cell_type": "code",
   "execution_count": 2,
   "metadata": {},
   "outputs": [],
   "source": [
    "# helper\n",
    "\n",
    "def y2indicator(Y):\n",
    "    N = len(Y)\n",
    "    K = len(set(Y))\n",
    "    I = np.zeros((N,K))\n",
    "    I[np.arange(N),Y] = 1\n",
    "    return I\n"
   ]
  },
  {
   "cell_type": "markdown",
   "metadata": {},
   "source": [
    "#### Get the data\n",
    "\n",
    "- Convert to nump|\n",
    "- Normalize\n",
    "- Y should be one-got encoded labels"
   ]
  },
  {
   "cell_type": "code",
   "execution_count": 11,
   "metadata": {},
   "outputs": [
    {
     "data": {
      "text/plain": [
       "array([[0., 0., 0., ..., 0., 1., 0.],\n",
       "       [0., 1., 0., ..., 0., 0., 0.],\n",
       "       [1., 0., 0., ..., 0., 0., 0.],\n",
       "       ...,\n",
       "       [0., 0., 0., ..., 0., 0., 0.],\n",
       "       [0., 0., 0., ..., 1., 0., 0.],\n",
       "       [0., 0., 0., ..., 0., 0., 0.]])"
      ]
     },
     "execution_count": 11,
     "metadata": {},
     "output_type": "execute_result"
    }
   ],
   "source": [
    "data = pd.read_csv('data/fashion-mnist_train.csv')\n",
    "\n",
    "data = data.values\n",
    "np.random.shuffle(data)\n",
    "\n",
    "X = data[:,1:].reshape(-1,28,28,1)/255.0\n",
    "Y = data[:,0].astype(np.int32)\n",
    "\n",
    "# get shapes\n",
    "# N = len(Y)\n",
    "\n",
    "K = len(set(Y))\n",
    "\n",
    "# by default Keras wants one-hot encoded labels\n",
    "# there's another cost function we can use\n",
    "# where we can just pass in the integer labels directly\n",
    "# just like Tensorflow / Theano\n",
    "\n",
    "Y = y2indicator(Y)\n"
   ]
  },
  {
   "cell_type": "markdown",
   "metadata": {},
   "source": [
    "#### Build the model"
   ]
  },
  {
   "cell_type": "code",
   "execution_count": 13,
   "metadata": {},
   "outputs": [
    {
     "name": "stdout",
     "output_type": "stream",
     "text": [
      "_________________________________________________________________\n",
      "Layer (type)                 Output Shape              Param #   \n",
      "=================================================================\n",
      "conv2d_4 (Conv2D)            (None, 26, 26, 32)        320       \n",
      "_________________________________________________________________\n",
      "batch_normalization_4 (Batch (None, 26, 26, 32)        128       \n",
      "_________________________________________________________________\n",
      "activation_6 (Activation)    (None, 26, 26, 32)        0         \n",
      "_________________________________________________________________\n",
      "max_pooling2d_4 (MaxPooling2 (None, 13, 13, 32)        0         \n",
      "_________________________________________________________________\n",
      "conv2d_5 (Conv2D)            (None, 11, 11, 64)        18496     \n",
      "_________________________________________________________________\n",
      "batch_normalization_5 (Batch (None, 11, 11, 64)        256       \n",
      "_________________________________________________________________\n",
      "activation_7 (Activation)    (None, 11, 11, 64)        0         \n",
      "_________________________________________________________________\n",
      "max_pooling2d_5 (MaxPooling2 (None, 5, 5, 64)          0         \n",
      "_________________________________________________________________\n",
      "conv2d_6 (Conv2D)            (None, 3, 3, 128)         73856     \n",
      "_________________________________________________________________\n",
      "batch_normalization_6 (Batch (None, 3, 3, 128)         512       \n",
      "_________________________________________________________________\n",
      "activation_8 (Activation)    (None, 3, 3, 128)         0         \n",
      "_________________________________________________________________\n",
      "max_pooling2d_6 (MaxPooling2 (None, 1, 1, 128)         0         \n",
      "_________________________________________________________________\n",
      "flatten_2 (Flatten)          (None, 128)               0         \n",
      "_________________________________________________________________\n",
      "dense_3 (Dense)              (None, 300)               38700     \n",
      "_________________________________________________________________\n",
      "activation_9 (Activation)    (None, 300)               0         \n",
      "_________________________________________________________________\n",
      "dropout_2 (Dropout)          (None, 300)               0         \n",
      "_________________________________________________________________\n",
      "dense_4 (Dense)              (None, 10)                3010      \n",
      "_________________________________________________________________\n",
      "activation_10 (Activation)   (None, 10)                0         \n",
      "=================================================================\n",
      "Total params: 135,278\n",
      "Trainable params: 134,830\n",
      "Non-trainable params: 448\n",
      "_________________________________________________________________\n"
     ]
    }
   ],
   "source": [
    "model = Sequential()\n",
    "\n",
    "model.add(Conv2D(input_shape = (28,28,1),filters = 32,kernel_size= (3,3)))\n",
    "model.add(BatchNormalization())\n",
    "model.add(Activation('relu'))\n",
    "model.add(MaxPooling2D())\n",
    "\n",
    "model.add(Conv2D(filters = 64,kernel_size = (3,3)))\n",
    "model.add(BatchNormalization())\n",
    "model.add(Activation('relu'))\n",
    "model.add(MaxPooling2D())\n",
    "\n",
    "model.add(Conv2D(filters = 128,kernel_size = (3,3)))\n",
    "model.add(BatchNormalization())\n",
    "model.add(Activation('relu'))\n",
    "model.add(MaxPooling2D())\n",
    "\n",
    "model.add(Flatten())\n",
    "model.add(Dense(units = 300))\n",
    "model.add(Activation('relu'))\n",
    "model.add(Dropout(0.2))\n",
    "model.add(Dense(units = K))\n",
    "model.add(Activation('softmax'))\n",
    "\n",
    "\n",
    "# list of losses: https://keras.io/losses/\n",
    "# list of optimizers: https://keras.io/optimizers/\n",
    "# list of metrics: https://keras.io/metrics/\n",
    "model.compile(loss = 'categorical_crossentropy',\n",
    "             optimizer = 'adam',\n",
    "             metrics = ['accuracy'])\n",
    "\n",
    "# note: multiple ways to choose a backend\n",
    "# either theano, tensorflow, or cntk\n",
    "# https://keras.io/backend/\n",
    "\n",
    "\n",
    "model.summary()"
   ]
  },
  {
   "cell_type": "markdown",
   "metadata": {},
   "source": [
    "#### Train Model"
   ]
  },
  {
   "cell_type": "code",
   "execution_count": 14,
   "metadata": {},
   "outputs": [
    {
     "name": "stdout",
     "output_type": "stream",
     "text": [
      "Train on 40199 samples, validate on 19801 samples\n",
      "Epoch 1/15\n",
      "40199/40199 [==============================] - 61s 2ms/step - loss: 0.5123 - acc: 0.8142 - val_loss: 0.3962 - val_acc: 0.8556\n",
      "Epoch 2/15\n",
      "40199/40199 [==============================] - 32s 802us/step - loss: 0.3652 - acc: 0.8652 - val_loss: 0.3495 - val_acc: 0.8728\n",
      "Epoch 3/15\n",
      "40199/40199 [==============================] - 32s 799us/step - loss: 0.3178 - acc: 0.8835 - val_loss: 0.3428 - val_acc: 0.8742\n",
      "Epoch 4/15\n",
      "40199/40199 [==============================] - 32s 797us/step - loss: 0.2831 - acc: 0.8952 - val_loss: 0.3201 - val_acc: 0.8828\n",
      "Epoch 5/15\n",
      "40199/40199 [==============================] - 32s 808us/step - loss: 0.2553 - acc: 0.9048 - val_loss: 0.3380 - val_acc: 0.8762\n",
      "Epoch 6/15\n",
      "40199/40199 [==============================] - 33s 814us/step - loss: 0.2292 - acc: 0.9144 - val_loss: 0.3066 - val_acc: 0.8954\n",
      "Epoch 7/15\n",
      "40199/40199 [==============================] - 34s 846us/step - loss: 0.2075 - acc: 0.9222 - val_loss: 0.3290 - val_acc: 0.8874\n",
      "Epoch 8/15\n",
      "40199/40199 [==============================] - 32s 806us/step - loss: 0.1905 - acc: 0.9281 - val_loss: 0.3254 - val_acc: 0.8912\n",
      "Epoch 9/15\n",
      "40199/40199 [==============================] - 32s 805us/step - loss: 0.1703 - acc: 0.9367 - val_loss: 0.3166 - val_acc: 0.8998\n",
      "Epoch 10/15\n",
      "40199/40199 [==============================] - 32s 805us/step - loss: 0.1558 - acc: 0.9414 - val_loss: 0.3517 - val_acc: 0.8871\n",
      "Epoch 11/15\n",
      "40199/40199 [==============================] - 33s 810us/step - loss: 0.1436 - acc: 0.9459 - val_loss: 0.3584 - val_acc: 0.8948\n",
      "Epoch 12/15\n",
      "40199/40199 [==============================] - 32s 802us/step - loss: 0.1297 - acc: 0.9523 - val_loss: 0.3957 - val_acc: 0.8826\n",
      "Epoch 13/15\n",
      "40199/40199 [==============================] - 32s 805us/step - loss: 0.1213 - acc: 0.9545 - val_loss: 0.3832 - val_acc: 0.8861\n",
      "Epoch 14/15\n",
      "40199/40199 [==============================] - 32s 808us/step - loss: 0.1102 - acc: 0.9588 - val_loss: 0.4104 - val_acc: 0.8788\n",
      "Epoch 15/15\n",
      "40199/40199 [==============================] - 32s 803us/step - loss: 0.1035 - acc: 0.9618 - val_loss: 0.3939 - val_acc: 0.8979\n",
      "Return: <keras.callbacks.History object at 0x0000002A4D54BCF8>\n"
     ]
    }
   ],
   "source": [
    "# gives us back a <keras.callbacks.History object at 0x112e61a90>\n",
    "r = model.fit(X,Y,validation_split = 0.33,epochs = 15,batch_size = 32)\n",
    "print('Return:',r)"
   ]
  },
  {
   "cell_type": "code",
   "execution_count": 15,
   "metadata": {},
   "outputs": [
    {
     "name": "stdout",
     "output_type": "stream",
     "text": [
      "dict_keys(['val_acc', 'loss', 'val_loss', 'acc'])\n"
     ]
    },
    {
     "data": {
      "image/png": "[encoded data removed]",
      "text/plain": [
       "<Figure size 432x288 with 1 Axes>"
      ]
     },
     "metadata": {},
     "output_type": "display_data"
    },
    {
     "data": {
      "image/png": "[encoded data removed]",
      "text/plain": [
       "<Figure size 432x288 with 1 Axes>"
      ]
     },
     "metadata": {},
     "output_type": "display_data"
    }
   ],
   "source": [
    "# print the available keys\n",
    "# should see: dict_keys(['val_loss', 'acc', 'loss', 'val_acc'])\n",
    "print(r.history.keys())\n",
    "\n",
    "# plot some data\n",
    "plt.plot(r.history['loss'], label='loss')\n",
    "plt.plot(r.history['val_loss'], label='val_loss')\n",
    "plt.legend()\n",
    "plt.show()\n",
    "\n",
    "# accuracies\n",
    "plt.plot(r.history['acc'], label='acc')\n",
    "plt.plot(r.history['val_acc'], label='val_acc')\n",
    "plt.legend()\n",
    "plt.show()\n"
   ]
  },
  {
   "cell_type": "code",
   "execution_count": null,
   "metadata": {},
   "outputs": [],
   "source": []
  }
 ],
 "metadata": {
  "kernelspec": {
   "display_name": "Python 3",
   "language": "python",
   "name": "python3"
  },
  "language_info": {
   "codemirror_mode": {
    "name": "ipython",
    "version": 3
   },
   "file_extension": ".py",
   "mimetype": "text/x-python",
   "name": "python",
   "nbconvert_exporter": "python",
   "pygments_lexer": "ipython3",
   "version": "3.5.5"
  }
 },
 "nbformat": 4,
 "nbformat_minor": 2
}
