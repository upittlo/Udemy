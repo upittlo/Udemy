{
 "cells": [
  {
   "cell_type": "code",
   "execution_count": 1,
   "metadata": {},
   "outputs": [
    {
     "name": "stderr",
     "output_type": "stream",
     "text": [
      "Using TensorFlow backend.\n"
     ]
    }
   ],
   "source": [
    "from __future__ import print_function,division\n",
    "from builtins import range,input\n",
    "\n",
    "import os\n",
    "import sys\n",
    "import string\n",
    "import numpy as np\n",
    "import pandas as pd\n",
    "import matplotlib.pyplot as plt\n",
    "\n",
    "from keras.models import Model\n",
    "from keras.layers import Dense,Embedding,Input,LSTM\n",
    "from keras.preprocessing.text import Tokenizer\n",
    "from keras.preprocessing.sequence import pad_sequences\n",
    "from keras.optimizers import Adam, SGD\n"
   ]
  },
  {
   "cell_type": "markdown",
   "metadata": {},
   "source": [
    "#### Configuration"
   ]
  },
  {
   "cell_type": "code",
   "execution_count": 2,
   "metadata": {},
   "outputs": [],
   "source": [
    "MAX_SEQUENCE_LENGTH = 100\n",
    "MAX_VOCAB_SIZE = 3000\n",
    "EMBEDDING_DIM = 50\n",
    "VALIDATION_SPLIT = 0.2\n",
    "BATCH_SIZE = 128\n",
    "EPOCHS = 2000\n",
    "LATENT_DIM = 25\n"
   ]
  },
  {
   "cell_type": "markdown",
   "metadata": {},
   "source": [
    "#### Load the data"
   ]
  },
  {
   "cell_type": "code",
   "execution_count": 3,
   "metadata": {},
   "outputs": [],
   "source": [
    "input_texts = []\n",
    "target_texts = []\n",
    "for line in open(\"data/robert_frost.txt\",encoding = 'utf8'):\n",
    "    line = line.rstrip()\n",
    "    if not line:\n",
    "        continue\n",
    "        \n",
    "    input_line = '<sos> ' + line\n",
    "    target_line = line +' <eos>'\n",
    "    \n",
    "    input_texts.append(input_line)\n",
    "    target_texts.append(target_line)\n",
    "    \n",
    "all_lines = input_texts + target_texts\n",
    "\n"
   ]
  },
  {
   "cell_type": "markdown",
   "metadata": {},
   "source": [
    "#### Convert the sentences (strings) into integers\n",
    "\n",
    "- If we don't assgin filters, it will filter all special characters"
   ]
  },
  {
   "cell_type": "code",
   "execution_count": 4,
   "metadata": {},
   "outputs": [],
   "source": [
    "\n",
    "tokenizer = Tokenizer(num_words = MAX_VOCAB_SIZE, filters = '')\n",
    "tokenizer.fit_on_texts(all_lines)\n",
    "input_sequences = tokenizer.texts_to_sequences(input_texts)\n",
    "target_sequences = tokenizer.texts_to_sequences(target_texts)"
   ]
  },
  {
   "cell_type": "markdown",
   "metadata": {},
   "source": [
    "#### Find max seq length"
   ]
  },
  {
   "cell_type": "code",
   "execution_count": 5,
   "metadata": {},
   "outputs": [
    {
     "name": "stdout",
     "output_type": "stream",
     "text": [
      "Max Length:  12\n"
     ]
    }
   ],
   "source": [
    "max_sequence_length_from_data  =max(len(s) for s in input_sequences)\n",
    "print(\"Max Length: \",max_sequence_length_from_data )"
   ]
  },
  {
   "cell_type": "markdown",
   "metadata": {},
   "source": [
    "#### Get word -> integer mapping"
   ]
  },
  {
   "cell_type": "code",
   "execution_count": 6,
   "metadata": {},
   "outputs": [
    {
     "name": "stdout",
     "output_type": "stream",
     "text": [
      "Found 3057 unique tokens. \n"
     ]
    }
   ],
   "source": [
    "word2idx = tokenizer.word_index\n",
    "print('Found %s unique tokens. ' %len(word2idx))\n",
    "assert('<sos>' in word2idx)\n",
    "assert('<eos>' in word2idx)"
   ]
  },
  {
   "cell_type": "markdown",
   "metadata": {},
   "source": [
    "#### pad sequences so that we got a N * T matrix"
   ]
  },
  {
   "cell_type": "code",
   "execution_count": 7,
   "metadata": {},
   "outputs": [
    {
     "name": "stdout",
     "output_type": "stream",
     "text": [
      "Shape of data tensor: (1436, 12)\n"
     ]
    }
   ],
   "source": [
    "max_sequence_length = min(max_sequence_length_from_data,MAX_SEQUENCE_LENGTH)\n",
    "input_sequences = pad_sequences(input_sequences,maxlen = max_sequence_length,padding = 'post')\n",
    "target_sequences = pad_sequences(target_sequences,maxlen = max_sequence_length,padding = 'post')\n",
    "print('Shape of data tensor:', input_sequences.shape)"
   ]
  },
  {
   "cell_type": "markdown",
   "metadata": {},
   "source": [
    "#### Load in pre-trained word vectors"
   ]
  },
  {
   "cell_type": "code",
   "execution_count": 8,
   "metadata": {},
   "outputs": [
    {
     "name": "stdout",
     "output_type": "stream",
     "text": [
      "Found 400000 word vectors.\n"
     ]
    }
   ],
   "source": [
    "word2vec = {}\n",
    "with open(os.path.join('large_files/glove.6B/glove.6B.%sd.txt' % EMBEDDING_DIM),encoding = 'utf8') as f:\n",
    "    for line in f:\n",
    "        values = line.split()\n",
    "        word = values[0]\n",
    "        vec = np.asarray(values[1:],dtype = 'float32')\n",
    "        word2vec[word] = vec\n",
    "print('Found %s word vectors.' %len(word2vec))\n",
    "\n",
    "num_words = min(MAX_VOCAB_SIZE,len(word2idx)+1)\n",
    "embedding_matrix = np.zeros((num_words,EMBEDDING_DIM))\n",
    "for word, i in word2idx.items():\n",
    "    if i <MAX_VOCAB_SIZE:\n",
    "        embedding_vector = word2vec.get(word)\n",
    "        if embedding_vector is not None:\n",
    "            embedding_matrix[i] = embedding_vector\n",
    "            "
   ]
  },
  {
   "cell_type": "markdown",
   "metadata": {},
   "source": [
    "#### One-hot the targets (can't use sparse cross_entropy due to sequence target)\n",
    "\n",
    "- (number of samples, step, word feature matrix)"
   ]
  },
  {
   "cell_type": "code",
   "execution_count": 9,
   "metadata": {},
   "outputs": [],
   "source": [
    "one_hot_targets = np.zeros((len(input_sequences),max_sequence_length,num_words))\n",
    "for i, target_sequence in enumerate(target_sequences):\n",
    "    for t,word in enumerate(target_sequence):\n",
    "        if word >0:\n",
    "            one_hot_targets[i,t,word] = 1\n",
    "            \n",
    "        "
   ]
  },
  {
   "cell_type": "markdown",
   "metadata": {},
   "source": [
    "#### Load pre-trained word embeddings into an Embedding layer"
   ]
  },
  {
   "cell_type": "code",
   "execution_count": 10,
   "metadata": {},
   "outputs": [],
   "source": [
    "embedding_layer = Embedding(\n",
    "num_words,\n",
    "EMBEDDING_DIM,\n",
    "weights = [embedding_matrix])\n"
   ]
  },
  {
   "cell_type": "markdown",
   "metadata": {},
   "source": [
    "#### Build LSTM network"
   ]
  },
  {
   "cell_type": "code",
   "execution_count": 11,
   "metadata": {
    "scrolled": true
   },
   "outputs": [
    {
     "name": "stdout",
     "output_type": "stream",
     "text": [
      "WARNING:tensorflow:From C:\\ProgramData\\Anaconda3\\envs\\tensorflow\\lib\\site-packages\\keras\\backend\\tensorflow_backend.py:1208: calling reduce_max (from tensorflow.python.ops.math_ops) with keep_dims is deprecated and will be removed in a future version.\n",
      "Instructions for updating:\n",
      "keep_dims is deprecated, use keepdims instead\n",
      "WARNING:tensorflow:From C:\\ProgramData\\Anaconda3\\envs\\tensorflow\\lib\\site-packages\\keras\\backend\\tensorflow_backend.py:1242: calling reduce_sum (from tensorflow.python.ops.math_ops) with keep_dims is deprecated and will be removed in a future version.\n",
      "Instructions for updating:\n",
      "keep_dims is deprecated, use keepdims instead\n",
      "WARNING:tensorflow:From C:\\ProgramData\\Anaconda3\\envs\\tensorflow\\lib\\site-packages\\keras\\backend\\tensorflow_backend.py:1344: calling reduce_mean (from tensorflow.python.ops.math_ops) with keep_dims is deprecated and will be removed in a future version.\n",
      "Instructions for updating:\n",
      "keep_dims is deprecated, use keepdims instead\n"
     ]
    }
   ],
   "source": [
    "input_ = Input(shape = (max_sequence_length,))\n",
    "initial_h = Input(shape = (LATENT_DIM,))\n",
    "initial_c = Input(shape = (LATENT_DIM,))\n",
    "x = embedding_layer(input_)\n",
    "lstm = LSTM(LATENT_DIM,return_sequences = True,return_state = True)\n",
    "x,_,_ = lstm(x,initial_state = [initial_h,initial_c])\n",
    "dense = Dense(num_words,activation = 'softmax')\n",
    "output  = dense(x)\n",
    "\n",
    "model = Model([input_,initial_h,initial_c],output)\n",
    "model.compile(loss = 'categorical_crossentropy',\n",
    "             optimizer = Adam(lr = 0.01),\n",
    "             metrics = ['accuracy'])\n",
    "\n",
    "z = np.zeros((len(input_sequences), LATENT_DIM))\n",
    "r = model.fit([input_sequences,z,z],\n",
    "             one_hot_targets,\n",
    "             batch_size = BATCH_SIZE,\n",
    "             epochs = EPOCHS,\n",
    "             validation_split = VALIDATION_SPLIT,\n",
    "             verbose = 0)\n",
    "\n",
    "\n"
   ]
  },
  {
   "cell_type": "code",
   "execution_count": 12,
   "metadata": {},
   "outputs": [
    {
     "data": {
      "image/png": "[encoded data removed]",
      "text/plain": [
       "<Figure size 432x288 with 1 Axes>"
      ]
     },
     "metadata": {},
     "output_type": "display_data"
    },
    {
     "data": {
      "image/png": "[encoded data removed]",
      "text/plain": [
       "<Figure size 432x288 with 1 Axes>"
      ]
     },
     "metadata": {},
     "output_type": "display_data"
    }
   ],
   "source": [
    "plt.plot(r.history['loss'],label = 'loss')\n",
    "plt.plot(r.history['val_loss'],label = 'val_loss')\n",
    "plt.legend()\n",
    "plt.show()\n",
    "\n",
    "plt.plot(r.history['acc'],label = 'acc')\n",
    "plt.plot(r.history['val_acc'],label = 'val_acc')\n",
    "plt.legend()\n",
    "plt.show()"
   ]
  },
  {
   "cell_type": "markdown",
   "metadata": {},
   "source": [
    "#### Make a sampling model"
   ]
  },
  {
   "cell_type": "code",
   "execution_count": 13,
   "metadata": {},
   "outputs": [],
   "source": [
    "input2 = Input(shape = (1,))   ## only input one word at a time\n",
    "x = embedding_layer(input2)\n",
    "x,h,c=  lstm(x,initial_state = [initial_h,initial_c])  ## now we need states to feed back\n",
    "output2 = dense(x)\n",
    "sampling_model = Model([input2,initial_h,initial_c],[output2,h,c])\n"
   ]
  },
  {
   "cell_type": "code",
   "execution_count": 14,
   "metadata": {},
   "outputs": [],
   "source": [
    "#### Reverse word2idx dictionary to get back words during prediction\n",
    "\n",
    "idx2word = {v:k for k,v in word2idx.items()}\n",
    "\n"
   ]
  },
  {
   "cell_type": "code",
   "execution_count": 15,
   "metadata": {},
   "outputs": [],
   "source": [
    "def sample_line():\n",
    "    ### initial inputs\n",
    "    np_input = np.array([[word2idx['<sos>']]])\n",
    "    h = np.zeros((1,LATENT_DIM))\n",
    "    c = np.zeros((1,LATENT_DIM))\n",
    "    \n",
    "    ## so we know when to quit\n",
    "    eos = word2idx['<eos>']\n",
    "    \n",
    "    ## store the output here\n",
    "    output_sentence = []\n",
    "    for _ in range(max_sequence_length):\n",
    "        o,h,c = sampling_model.predict([np_input,h,c])\n",
    "        \n",
    "        ### o is a 3 dim data with (1,1,word vectors)\n",
    "        probs = o[0,0]\n",
    "        if np.argmax(probs) == 0:\n",
    "            print('wtf')\n",
    "        probs[0] = 0   ## Don't let idx = 0 happen\n",
    "        probs /= probs.sum()  ## renormalize probability\n",
    "        idx = np.random.choice(len(probs),p = probs)\n",
    "        if idx == eos:\n",
    "            break\n",
    "            \n",
    "        ### accumulate output\n",
    "        output_sentence.append(idx2word.get(idx, '<WTF %s>' %idx))\n",
    "        \n",
    "        ## make the next input into model\n",
    "        np_input[0,0] = idx\n",
    "        \n",
    "    return ' '.join(output_sentence)\n",
    "\n"
   ]
  },
  {
   "cell_type": "markdown",
   "metadata": {},
   "source": [
    "#### Generate the result"
   ]
  },
  {
   "cell_type": "code",
   "execution_count": 16,
   "metadata": {},
   "outputs": [
    {
     "name": "stdout",
     "output_type": "stream",
     "text": [
      "or something brushed across earth and music around the joints, though,\n",
      "against the' attic door: the door is get up; i'm too warm\n",
      "the past and i come to it.\n",
      "but he snapped all summer,\n"
     ]
    }
   ],
   "source": [
    "for i in range(4):\n",
    "    \n",
    "     print(sample_line())\n",
    "    \n",
    "    "
   ]
  },
  {
   "cell_type": "code",
   "execution_count": 17,
   "metadata": {},
   "outputs": [],
   "source": [
    "np_input = np.array([[word2idx['<sos>']]])\n",
    "h = np.zeros((1,LATENT_DIM))\n",
    "c = np.zeros((1,LATENT_DIM))\n",
    "o,h,c = sampling_model.predict([np_input,h,c])\n",
    "        "
   ]
  },
  {
   "cell_type": "code",
   "execution_count": null,
   "metadata": {},
   "outputs": [],
   "source": [
    "o.shape"
   ]
  }
 ],
 "metadata": {
  "kernelspec": {
   "display_name": "Python 3",
   "language": "python",
   "name": "python3"
  },
  "language_info": {
   "codemirror_mode": {
    "name": "ipython",
    "version": 3
   },
   "file_extension": ".py",
   "mimetype": "text/x-python",
   "name": "python",
   "nbconvert_exporter": "python",
   "pygments_lexer": "ipython3",
   "version": "3.5.5"
  }
 },
 "nbformat": 4,
 "nbformat_minor": 2
}
