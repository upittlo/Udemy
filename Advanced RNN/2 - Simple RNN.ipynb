{
 "cells": [
  {
   "cell_type": "code",
   "execution_count": 1,
   "metadata": {},
   "outputs": [],
   "source": [
    "from __future__ import print_function,division\n",
    "from builtins import range, input"
   ]
  },
  {
   "cell_type": "code",
   "execution_count": 2,
   "metadata": {},
   "outputs": [
    {
     "name": "stderr",
     "output_type": "stream",
     "text": [
      "Using TensorFlow backend.\n"
     ]
    }
   ],
   "source": [
    "from keras.models import Model\n",
    "from keras.layers import Input, LSTM, GRU\n",
    "import numpy as np\n",
    "import matplotlib.pyplot as plt"
   ]
  },
  {
   "cell_type": "code",
   "execution_count": 6,
   "metadata": {},
   "outputs": [],
   "source": [
    "T = 8  ## steps\n",
    "D = 2  ## Dimesnion\n",
    "M = 3  ## hidden layer size"
   ]
  },
  {
   "cell_type": "code",
   "execution_count": 7,
   "metadata": {},
   "outputs": [],
   "source": [
    "X = np.random.randn(1,T,D)\n"
   ]
  },
  {
   "cell_type": "markdown",
   "metadata": {},
   "source": [
    "#### Test output for 4 different RNN Structure"
   ]
  },
  {
   "cell_type": "code",
   "execution_count": 9,
   "metadata": {},
   "outputs": [],
   "source": [
    "def lstm1():\n",
    "    input_ = Input(shape = (T,D))\n",
    "    rnn = LSTM(M,return_state = True)\n",
    "    x = rnn(input_)\n",
    "    \n",
    "    model = Model(inputs = input_,outputs = x)\n",
    "    o,h,c = model.predict(X)\n",
    "    print(\"o:\",o)\n",
    "    print(\"h:\",h)\n",
    "    print(\"c:\",c)\n",
    "    \n",
    "def lstm2():\n",
    "    input_ = Input(shape = (T,D))\n",
    "    rnn = LSTM(M,return_state = True,return_sequences = True)\n",
    "    \n",
    "    x = rnn(input_)\n",
    "    \n",
    "    model = Model(inputs = input_,outputs = x)\n",
    "    o,h,c = model.predict(X)\n",
    "    print(\"o:\",o)\n",
    "    print(\"h:\",h)\n",
    "    print(\"c:\",c)\n",
    "    \n",
    "def gru1():\n",
    "    input_ =Input(shape = (T,D))\n",
    "    rnn = GRU(M,return_state = True)\n",
    "    x = rnn(input_)\n",
    "    \n",
    "    model = Model(inputs = input_,outputs = x)\n",
    "    o,h = model.predict(X)\n",
    "    print(\"o:\",o)\n",
    "    print(\"h:\",h)\n",
    "    \n",
    "def gru2():\n",
    "    \n",
    "    input_ = Input(shape = (T,D))\n",
    "    rnn = GRU(M,return_state = True, return_sequences = True)\n",
    "    x = rnn(input_)\n",
    "    \n",
    "    model = Model(inputs = input_,outputs = x)\n",
    "    o,h = model.predict(X)\n",
    "    print(\"o:\",o)\n",
    "    print(\"h:\",h)\n",
    "    \n",
    "    \n",
    "    \n",
    "    "
   ]
  },
  {
   "cell_type": "code",
   "execution_count": 11,
   "metadata": {},
   "outputs": [
    {
     "name": "stdout",
     "output_type": "stream",
     "text": [
      "lstm1:\n",
      "o: [[0.02030293 0.00614578 0.01596322]]\n",
      "h: [[0.02030293 0.00614578 0.01596322]]\n",
      "c: [[0.03973092 0.01195789 0.03236042]]\n",
      "lstm2:\n",
      "o: [[[ 0.11827926  0.10722892  0.04726928]\n",
      "  [ 0.09318567  0.08347048  0.03399546]\n",
      "  [ 0.18259788  0.07000379 -0.05464103]\n",
      "  [-0.03666409 -0.03252876  0.02632205]\n",
      "  [-0.08977496 -0.02005316  0.10993772]\n",
      "  [-0.10601587 -0.18081094 -0.01313265]\n",
      "  [-0.01158564 -0.07654999 -0.02647793]\n",
      "  [-0.01751908 -0.01566291  0.04987927]]]\n",
      "h: [[-0.01751908 -0.01566291  0.04987927]]\n",
      "c: [[-0.03857115 -0.03132194  0.09630004]]\n",
      "GRU1:\n",
      "o: [[-0.07269662 -0.15312676 -0.01927128]]\n",
      "h: [[-0.07269662 -0.15312676 -0.01927128]]\n",
      "GRU2:\n",
      "o: [[[-0.2121496   0.22251317  0.07165557]\n",
      "  [-0.12156243  0.18900517  0.03984749]\n",
      "  [-0.26389375  0.10816934  0.15760078]\n",
      "  [ 0.05567673 -0.04096614 -0.2110617 ]\n",
      "  [ 0.18427831  0.03409524 -0.2542231 ]\n",
      "  [ 0.26170573 -0.46501485  0.01201261]\n",
      "  [-0.00843237 -0.28285658  0.07129997]\n",
      "  [-0.01433957 -0.05857997 -0.02500625]]]\n",
      "h: [[-0.01433957 -0.05857997 -0.02500625]]\n"
     ]
    }
   ],
   "source": [
    "print(\"lstm1:\")\n",
    "lstm1()\n",
    "\n",
    "print(\"lstm2:\")\n",
    "lstm2()\n",
    "print(\"GRU1:\")\n",
    "gru1()\n",
    "print(\"GRU2:\")\n",
    "gru2()"
   ]
  },
  {
   "cell_type": "code",
   "execution_count": null,
   "metadata": {},
   "outputs": [],
   "source": []
  }
 ],
 "metadata": {
  "kernelspec": {
   "display_name": "Python 3",
   "language": "python",
   "name": "python3"
  },
  "language_info": {
   "codemirror_mode": {
    "name": "ipython",
    "version": 3
   },
   "file_extension": ".py",
   "mimetype": "text/x-python",
   "name": "python",
   "nbconvert_exporter": "python",
   "pygments_lexer": "ipython3",
   "version": "3.5.5"
  }
 },
 "nbformat": 4,
 "nbformat_minor": 2
}
