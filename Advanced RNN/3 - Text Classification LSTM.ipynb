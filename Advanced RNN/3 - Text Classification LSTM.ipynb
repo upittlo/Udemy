{
 "cells": [
  {
   "cell_type": "markdown",
   "metadata": {},
   "source": [
    "####  \n",
    "\n",
    "- Update future: pip install -U future\n",
    "\n",
    "- Download the data:\n",
    "- https://www.kaggle.com/c/jigsaw-toxic-comment-classification-challenge\n",
    "- Download the word vectors:\n",
    "- http://nlp.stanford.edu/data/glove.6B.zip\n",
    "   or\n",
    "- https://drive.google.com/uc?id=1WJjHzuxJwiioEB8hluWcYC0SnjiZN-1v&export=download"
   ]
  },
  {
   "cell_type": "code",
   "execution_count": 2,
   "metadata": {},
   "outputs": [],
   "source": [
    "from __future__ import print_function, division\n",
    "from builtins import range\n",
    "\n",
    "import os\n",
    "import sys\n",
    "import numpy as np\n",
    "import pandas as pd\n",
    "import matplotlib.pyplot as plt\n",
    "from keras.preprocessing.text import Tokenizer\n",
    "from keras.preprocessing.sequence import pad_sequences\n",
    "from keras.layers import Dense, Input,Embedding\n",
    "from keras.layers import LSTM, Bidirectional, GlobalMaxPool1D, Dropout\n",
    "from keras.models import Model\n",
    "from keras.optimizers import Adam\n",
    "from sklearn.metrics import roc_auc_score"
   ]
  },
  {
   "cell_type": "markdown",
   "metadata": {},
   "source": [
    "#### Configuration"
   ]
  },
  {
   "cell_type": "code",
   "execution_count": 3,
   "metadata": {},
   "outputs": [],
   "source": [
    "MAX_SEQUENCE_LENGTH = 100\n",
    "MAX_VOCAB_SIZE = 20000\n",
    "EMBEDDING_DIM = 50\n",
    "VALIDATION_SPLIT = 0.2\n",
    "BATCH_SIZE = 128\n",
    "EPOCHS = 5"
   ]
  },
  {
   "cell_type": "markdown",
   "metadata": {},
   "source": [
    "#### Load in pre-trained word vectors\n",
    "\n",
    "- Raw data is in txt format, each row start with word and follow by vector\n",
    "- Convert to dictionary"
   ]
  },
  {
   "cell_type": "code",
   "execution_count": 4,
   "metadata": {},
   "outputs": [
    {
     "name": "stdout",
     "output_type": "stream",
     "text": [
      "Found 400000 word vectors.\n"
     ]
    }
   ],
   "source": [
    "word2vec = {}\n",
    "\n",
    "with open(os.path.join('large_files/glove.6B/glove.6B.%sd.txt' % EMBEDDING_DIM),encoding = 'utf8') as f:\n",
    "     # is just a space-separated text file in the format:\n",
    "     # word vec[0] vec[1] vec[2] ...\n",
    "    for line in f:\n",
    "        values = line.split()\n",
    "        word = values[0]\n",
    "        vec = np.asarray(values[1:],dtype = 'float32')\n",
    "        word2vec[word] = vec\n",
    "print('Found %s word vectors.' %len(word2vec))"
   ]
  },
  {
   "cell_type": "markdown",
   "metadata": {},
   "source": [
    "#### Prepare text samples and their labels\n",
    "\n",
    "- Target shape -- N*6\n",
    "- N is the samples\n",
    "- 6 is possible label"
   ]
  },
  {
   "cell_type": "code",
   "execution_count": 5,
   "metadata": {},
   "outputs": [],
   "source": [
    "train = pd.read_csv('large_files/toxic-comment/train.csv')\n",
    "sentences = train[\"comment_text\"].fillna(\"DUMMY_VALUE\").values\n",
    "possible_labels = [\"toxic\", \"severe_toxic\", \"obscene\", \"threat\", \"insult\", \"identity_hate\"]\n",
    "targets = train[possible_labels].values"
   ]
  },
  {
   "cell_type": "markdown",
   "metadata": {},
   "source": [
    "#### Convert the sentences into integers"
   ]
  },
  {
   "cell_type": "code",
   "execution_count": 6,
   "metadata": {},
   "outputs": [],
   "source": [
    "tokenizer = Tokenizer(num_words = MAX_VOCAB_SIZE)\n",
    "tokenizer.fit_on_texts(sentences)\n",
    "sequences = tokenizer.texts_to_sequences(sentences)"
   ]
  },
  {
   "cell_type": "markdown",
   "metadata": {},
   "source": [
    "#### Get word >> integer mapping"
   ]
  },
  {
   "cell_type": "code",
   "execution_count": 7,
   "metadata": {},
   "outputs": [
    {
     "name": "stdout",
     "output_type": "stream",
     "text": [
      "Found 210337 unique tokens.\n"
     ]
    }
   ],
   "source": [
    "word2idx = tokenizer.word_index\n",
    "print(\"Found %s unique tokens.\"% len(word2idx))"
   ]
  },
  {
   "cell_type": "markdown",
   "metadata": {},
   "source": [
    "#### Pad sequences so that we get a N*T matrix\n",
    "\n",
    "- N: Samples\n",
    "- T: Length"
   ]
  },
  {
   "cell_type": "code",
   "execution_count": 8,
   "metadata": {},
   "outputs": [
    {
     "name": "stdout",
     "output_type": "stream",
     "text": [
      "shape of data tensor: (159571, 100)\n"
     ]
    }
   ],
   "source": [
    "data = pad_sequences(sequences,maxlen = MAX_SEQUENCE_LENGTH)\n",
    "print(\"shape of data tensor:\", data.shape)"
   ]
  },
  {
   "cell_type": "markdown",
   "metadata": {},
   "source": [
    "#### Prepare embedding matrix\n",
    "\n",
    "- In Keras word tokenizer, 0 is for unknown, real word start from 1\n",
    "- use get function, if word not exist in dict, return None\n",
    "\n",
    "- embedding -- V * D\n",
    "- V: Vocabulary size \n",
    "- D: Dimension"
   ]
  },
  {
   "cell_type": "code",
   "execution_count": 9,
   "metadata": {},
   "outputs": [
    {
     "name": "stdout",
     "output_type": "stream",
     "text": [
      "Filling pre-trained embeddings...\n"
     ]
    }
   ],
   "source": [
    "print('Filling pre-trained embeddings...')\n",
    "num_words = min(MAX_VOCAB_SIZE,len(word2idx)+1)\n",
    "embedding_matrix = np.zeros((num_words,EMBEDDING_DIM))\n",
    "for word, i in word2idx.items():\n",
    "    if i <MAX_VOCAB_SIZE:\n",
    "        embedding_vector = word2vec.get(word)\n",
    "        if embedding_vector is not None:\n",
    "            # words not found in embedding index will be all zeros.\n",
    "            embedding_matrix[i] = embedding_vector\n",
    "            "
   ]
  },
  {
   "cell_type": "markdown",
   "metadata": {},
   "source": [
    "#### load pre-trained word embeddings into an Embedding layer\n",
    "#### note that we set trainable = False so as to keep the embeddings fixed"
   ]
  },
  {
   "cell_type": "code",
   "execution_count": 10,
   "metadata": {},
   "outputs": [],
   "source": [
    "embedding_layer = Embedding(\n",
    "num_words, EMBEDDING_DIM,\n",
    "weights = [embedding_matrix],\n",
    "input_length = MAX_SEQUENCE_LENGTH,\n",
    "trainable = False)"
   ]
  },
  {
   "cell_type": "markdown",
   "metadata": {},
   "source": [
    "###### Global Max Pool\n",
    "- have a time series and we don't care how long it is, just take the max value in the time series in each dimension\n",
    "- T * M --> Global max pool --> M\n",
    "- choosing whick point in time was the most important for computing\n",
    "\n",
    "#### train a LSTM Model \n",
    "\n",
    "- Can be LSTM or BiLSTM\n",
    "- BiLSTM works a little better"
   ]
  },
  {
   "cell_type": "code",
   "execution_count": 19,
   "metadata": {},
   "outputs": [
    {
     "name": "stdout",
     "output_type": "stream",
     "text": [
      "Training model...\n",
      "Train on 127656 samples, validate on 31915 samples\n",
      "Epoch 1/5\n",
      "127656/127656 [==============================] - 482s 4ms/step - loss: 0.0696 - acc: 0.9768 - val_loss: 0.0564 - val_acc: 0.9800\n",
      "Epoch 2/5\n",
      "127656/127656 [==============================] - 477s 4ms/step - loss: 0.0537 - acc: 0.9810 - val_loss: 0.0527 - val_acc: 0.9811\n",
      "Epoch 3/5\n",
      "127656/127656 [==============================] - 477s 4ms/step - loss: 0.0511 - acc: 0.9817 - val_loss: 0.0532 - val_acc: 0.9811\n",
      "Epoch 4/5\n",
      "127656/127656 [==============================] - 476s 4ms/step - loss: 0.0499 - acc: 0.9819 - val_loss: 0.0533 - val_acc: 0.9811\n",
      "Epoch 5/5\n",
      "127656/127656 [==============================] - 477s 4ms/step - loss: 0.0488 - acc: 0.9822 - val_loss: 0.0520 - val_acc: 0.9813\n"
     ]
    }
   ],
   "source": [
    "input_ = Input(shape = (MAX_SEQUENCE_LENGTH,))\n",
    "x = embedding_layer(input_)\n",
    "##x =LSTM(15,return_sequences = True)(x) \n",
    "x = Bidirectional(LSTM(15,return_sequences = True))(x)\n",
    "x = GlobalMaxPool1D()(x)\n",
    "output = Dense(len(possible_labels),activation = 'sigmoid')(x)\n",
    "\n",
    "model = Model(input_,output)\n",
    "model.compile(loss = 'binary_crossentropy',\n",
    "             optimizer = Adam(lr = 0.01),\n",
    "             metrics=['accuracy'])\n",
    "\n",
    "print('Training model...')\n",
    "r = model.fit(\n",
    "  data,\n",
    "  targets,\n",
    "  batch_size=BATCH_SIZE,\n",
    "  epochs=EPOCHS,\n",
    "  validation_split=VALIDATION_SPLIT,\n",
    "  verbose = 1\n",
    ")"
   ]
  },
  {
   "cell_type": "markdown",
   "metadata": {},
   "source": [
    "#### Plot some data"
   ]
  },
  {
   "cell_type": "code",
   "execution_count": 27,
   "metadata": {},
   "outputs": [
    {
     "data": {
      "image/png": "[encoded data removed]",
      "text/plain": [
       "<Figure size 432x288 with 1 Axes>"
      ]
     },
     "metadata": {},
     "output_type": "display_data"
    },
    {
     "data": {
      "image/png": "[encoded data removed]",
      "text/plain": [
       "<Figure size 432x288 with 1 Axes>"
      ]
     },
     "metadata": {},
     "output_type": "display_data"
    }
   ],
   "source": [
    "plt.plot(r.history['loss'],label = 'loss')\n",
    "plt.plot(r.history['val_loss'],label = 'val_loss')\n",
    "plt.legend()\n",
    "plt.show()\n",
    "\n",
    "plt.plot(r.history['acc'],label = 'acc')\n",
    "plt.plot(r.history['val_acc'],label = 'val_acc')\n",
    "plt.legend()\n",
    "plt.show()\n",
    "\n",
    "p = model.predict(data)\n",
    "aucs = []\n",
    "\n",
    "\n"
   ]
  },
  {
   "cell_type": "code",
   "execution_count": 28,
   "metadata": {},
   "outputs": [
    {
     "name": "stdout",
     "output_type": "stream",
     "text": [
      "0.980518628310013\n"
     ]
    }
   ],
   "source": [
    "for j in range(6):\n",
    "    auc = roc_auc_score(targets[:,j],p[:,j])\n",
    "    aucs.append(auc)\n",
    "    \n",
    "print(np.mean(aucs))\n"
   ]
  },
  {
   "cell_type": "code",
   "execution_count": null,
   "metadata": {},
   "outputs": [],
   "source": []
  }
 ],
 "metadata": {
  "kernelspec": {
   "display_name": "Python 3",
   "language": "python",
   "name": "python3"
  },
  "language_info": {
   "codemirror_mode": {
    "name": "ipython",
    "version": 3
   },
   "file_extension": ".py",
   "mimetype": "text/x-python",
   "name": "python",
   "nbconvert_exporter": "python",
   "pygments_lexer": "ipython3",
   "version": "3.5.5"
  }
 },
 "nbformat": 4,
 "nbformat_minor": 2
}
