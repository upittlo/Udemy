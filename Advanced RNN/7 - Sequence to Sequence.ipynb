{
 "cells": [
  {
   "cell_type": "markdown",
   "metadata": {},
   "source": [
    "- get the data at: http://www.manythings.org/anki/"
   ]
  },
  {
   "cell_type": "code",
   "execution_count": 12,
   "metadata": {},
   "outputs": [],
   "source": [
    "from __future__ import print_function, division\n",
    "from builtins import range, input\n",
    "\n",
    "import os, sys\n",
    "from keras.models import Model\n",
    "from keras.layers import Input, LSTM, GRU,Dense,Embedding,Dropout\n",
    "from keras.preprocessing.text import Tokenizer\n",
    "from keras.preprocessing.sequence import pad_sequences\n",
    "from keras.utils import to_categorical\n",
    "import numpy as np\n",
    "import matplotlib.pyplot as plt\n",
    "\n",
    "import keras.backend as K\n"
   ]
  },
  {
   "cell_type": "markdown",
   "metadata": {},
   "source": [
    "#### Set config"
   ]
  },
  {
   "cell_type": "code",
   "execution_count": 2,
   "metadata": {},
   "outputs": [],
   "source": [
    "BATCH_SIZE = 64\n",
    "EPOCHS = 100\n",
    "LATENT_DIM = 256\n",
    "NUM_SAMPLES = 10000  # Number of samples to train on.\n",
    "MAX_SEQUENCE_LENGTH = 100\n",
    "MAX_NUM_WORDS = 20000\n",
    "EMBEDDING_DIM = 100\n",
    "\n",
    "input_texts = []   # sentence in original language\n",
    "target_texts = []  # sentence in target language\n",
    "target_texts_inputs = []  # sentence in target language offset by 1"
   ]
  },
  {
   "cell_type": "markdown",
   "metadata": {},
   "source": [
    "#### Load the data\n",
    "\n",
    "- only keep limit number of samples (faster in training)\n",
    "- target input (decoder input) 加入 'sos', output 加入 'eos' "
   ]
  },
  {
   "cell_type": "code",
   "execution_count": 3,
   "metadata": {},
   "outputs": [
    {
     "name": "stdout",
     "output_type": "stream",
     "text": [
      "num_samples: 10000\n"
     ]
    }
   ],
   "source": [
    "t = 0\n",
    "for line in open('data/translation/spa.txt',encoding = 'utf8'):\n",
    "    t +=1\n",
    "    if t >NUM_SAMPLES:\n",
    "        break\n",
    "    ## input and target are seperated by tab\n",
    "    if '\\t' not in line:\n",
    "        continue\n",
    "        \n",
    "    ## split up the input and translation\n",
    "    input_text, translation = line.split('\\t')\n",
    "    \n",
    "    ## make the target input and output\n",
    "    ## recall we'll be using teacher forcing\n",
    "    target_text = translation + ' <eos>'\n",
    "    target_text_input = '<sos> '+translation\n",
    "    \n",
    "    input_texts.append(input_text)\n",
    "    target_texts.append(target_text)\n",
    "    target_texts_inputs.append(target_text_input)\n",
    "    \n",
    "print(\"num_samples:\", len(input_texts))\n",
    "    \n",
    "    \n",
    "    "
   ]
  },
  {
   "cell_type": "markdown",
   "metadata": {},
   "source": [
    "#### Input preprocessing\n",
    "\n",
    "- Tokenize\n",
    "- word index mapping\n",
    "- determine max length\n",
    "\n",
    "- don't filter out special characters in output (to keep sos, eos)"
   ]
  },
  {
   "cell_type": "code",
   "execution_count": 4,
   "metadata": {},
   "outputs": [
    {
     "name": "stdout",
     "output_type": "stream",
     "text": [
      "Found 2367 unique input tokens.\n",
      "Found 6329 unique output tokens.\n"
     ]
    }
   ],
   "source": [
    "tokenizer_inputs = Tokenizer(num_words = MAX_NUM_WORDS)\n",
    "tokenizer_inputs.fit_on_texts(input_texts)\n",
    "input_sequences = tokenizer_inputs.texts_to_sequences(input_texts)\n",
    "\n",
    "word2idx_inputs = tokenizer_inputs.word_index\n",
    "print('Found %s unique input tokens.' %len(word2idx_inputs))\n",
    "\n",
    "max_len_input = max(len(s) for s in input_sequences)\n",
    "\n",
    "# tokenize outputs\n",
    "# don't filter out special character\n",
    "# otherwise <sos> and <eos> won't appear\n",
    "\n",
    "tokenizer_outputs = Tokenizer(num_words = MAX_NUM_WORDS,filters = '')\n",
    "tokenizer_outputs.fit_on_texts(target_texts + target_texts_inputs)\n",
    "target_sequences = tokenizer_outputs.texts_to_sequences(target_texts)\n",
    "target_sequences_inputs = tokenizer_outputs.texts_to_sequences(target_texts_inputs)\n",
    "\n",
    "word2idx_outputs = tokenizer_outputs.word_index\n",
    "print('Found %s unique output tokens.' % len(word2idx_outputs))\n",
    "\n",
    "# store number of output words for later\n",
    "# remember to add 1 since indexing starts at 1\n",
    "num_words_output = len(word2idx_outputs)+1\n",
    "\n",
    "# determine maximum length output sequence\n",
    "max_len_target = max(len(s) for s in target_sequences)"
   ]
  },
  {
   "cell_type": "markdown",
   "metadata": {},
   "source": [
    "#### Pad Sequences"
   ]
  },
  {
   "cell_type": "code",
   "execution_count": 5,
   "metadata": {},
   "outputs": [
    {
     "name": "stdout",
     "output_type": "stream",
     "text": [
      "encoder_data.shape : (10000, 5)\n",
      "encoder_data[0]: [ 0  0  0  0 15]\n",
      "decoder_data[0] [   2 1490    0    0    0    0    0    0    0]\n",
      "decoder_data.shape: (10000, 9)\n"
     ]
    }
   ],
   "source": [
    "encoder_inputs = pad_sequences(input_sequences,maxlen = max_len_input)\n",
    "print(\"encoder_data.shape :\",encoder_inputs.shape)\n",
    "print(\"encoder_data[0]:\",encoder_inputs[0])\n",
    "\n",
    "decoder_inputs = pad_sequences(target_sequences_inputs,maxlen = max_len_target,padding = 'post')\n",
    "print('decoder_data[0]',decoder_inputs[0])\n",
    "print('decoder_data.shape:',decoder_inputs.shape)\n",
    "\n",
    "decoder_targets = pad_sequences(target_sequences, maxlen = max_len_target,padding = 'post')\n",
    "\n"
   ]
  },
  {
   "cell_type": "markdown",
   "metadata": {},
   "source": [
    "#### prepare embedding matrix"
   ]
  },
  {
   "cell_type": "code",
   "execution_count": 6,
   "metadata": {},
   "outputs": [
    {
     "name": "stdout",
     "output_type": "stream",
     "text": [
      "Loading word vectors...\n",
      "Found 400000 word vectors.\n",
      "Filling pre-trained embeddings...\n"
     ]
    }
   ],
   "source": [
    "\n",
    "# store all the pre-trained word vectors\n",
    "print('Loading word vectors...')\n",
    "word2vec = {}\n",
    "with open(os.path.join('large_files/glove.6B/glove.6B.%sd.txt' % EMBEDDING_DIM),encoding = 'utf8') as f:\n",
    "  # is just a space-separated text file in the format:\n",
    "  # word vec[0] vec[1] vec[2] ...\n",
    "    for line in f:\n",
    "        values = line.split()\n",
    "        word = values[0]\n",
    "        vec = np.asarray(values[1:], dtype='float32')\n",
    "        word2vec[word] = vec\n",
    "print('Found %s word vectors.' % len(word2vec))\n",
    "\n",
    "\n",
    "\n",
    "print('Filling pre-trained embeddings...')\n",
    "num_words = min(MAX_NUM_WORDS, len(word2idx_inputs) + 1)\n",
    "embedding_matrix = np.zeros((num_words, EMBEDDING_DIM))\n",
    "for word, i in word2idx_inputs.items():\n",
    "    if i < MAX_NUM_WORDS:\n",
    "        embedding_vector = word2vec.get(word)\n",
    "    if embedding_vector is not None:\n",
    "      # words not found in embedding index will be all zeros.\n",
    "        embedding_matrix[i] = embedding_vector"
   ]
  },
  {
   "cell_type": "markdown",
   "metadata": {},
   "source": [
    "#### Create embedding layer"
   ]
  },
  {
   "cell_type": "code",
   "execution_count": 7,
   "metadata": {},
   "outputs": [],
   "source": [
    "embedding_layer = Embedding(\n",
    "num_words,EMBEDDING_DIM,weights = [embedding_matrix],\n",
    "input_length = max_len_input)"
   ]
  },
  {
   "cell_type": "markdown",
   "metadata": {},
   "source": [
    "#### Create targets\n",
    "\n",
    "- can't use sparse categorical cross entropy when we have sequences"
   ]
  },
  {
   "cell_type": "code",
   "execution_count": 8,
   "metadata": {},
   "outputs": [],
   "source": [
    "decoder_targets_one_hot = np.zeros((len(input_texts),\n",
    "                                   max_len_target,\n",
    "                                   num_words_output),\n",
    "dtype = 'float32')\n",
    "\n",
    "### Assign value\n",
    "\n",
    "for i, d in enumerate(decoder_targets):\n",
    "    for t,word in enumerate(d):\n",
    "        decoder_targets_one_hot[i,t,word] = 1\n"
   ]
  },
  {
   "cell_type": "markdown",
   "metadata": {},
   "source": [
    "#### Build the model"
   ]
  },
  {
   "cell_type": "code",
   "execution_count": 17,
   "metadata": {},
   "outputs": [
    {
     "name": "stdout",
     "output_type": "stream",
     "text": [
      "__________________________________________________________________________________________________\n",
      "Layer (type)                    Output Shape         Param #     Connected to                     \n",
      "==================================================================================================\n",
      "input_14 (InputLayer)           (None, 5)            0                                            \n",
      "__________________________________________________________________________________________________\n",
      "input_15 (InputLayer)           (None, 9)            0                                            \n",
      "__________________________________________________________________________________________________\n",
      "embedding_1 (Embedding)         (None, 5, 100)       236800      input_14[0][0]                   \n",
      "__________________________________________________________________________________________________\n",
      "embedding_8 (Embedding)         (None, 9, 256)       1620480     input_15[0][0]                   \n",
      "__________________________________________________________________________________________________\n",
      "dropout_5 (Dropout)             (None, 5, 100)       0           embedding_1[7][0]                \n",
      "__________________________________________________________________________________________________\n",
      "dropout_6 (Dropout)             (None, 9, 256)       0           embedding_8[0][0]                \n",
      "__________________________________________________________________________________________________\n",
      "lstm_14 (LSTM)                  [(None, 256), (None, 365568      dropout_5[0][0]                  \n",
      "__________________________________________________________________________________________________\n",
      "lstm_15 (LSTM)                  [(None, 9, 256), (No 525312      dropout_6[0][0]                  \n",
      "                                                                 lstm_14[0][1]                    \n",
      "                                                                 lstm_14[0][2]                    \n",
      "__________________________________________________________________________________________________\n",
      "dense_5 (Dense)                 (None, 9, 6330)      1626810     lstm_15[0][0]                    \n",
      "==================================================================================================\n",
      "Total params: 4,374,970\n",
      "Trainable params: 4,374,970\n",
      "Non-trainable params: 0\n",
      "__________________________________________________________________________________________________\n"
     ]
    }
   ],
   "source": [
    "encoder_inputs_placeholder = Input(shape=(max_len_input,))\n",
    "x = embedding_layer(encoder_inputs_placeholder)\n",
    "x = Dropout(0.5)(x)\n",
    "\n",
    "encoder = LSTM(\n",
    "  LATENT_DIM,\n",
    "  return_state=True,\n",
    "  # dropout=0.5 # dropout not available on gpu\n",
    ")\n",
    "\n",
    "\n",
    "encoder_outputs, h, c = encoder(x)\n",
    "\n",
    "\n",
    "# encoder_outputs, h = encoder(x) #gru\n",
    "\n",
    "# keep only the states to pass into decoder\n",
    "encoder_states = [h, c]\n",
    "# encoder_states = [state_h] # gru\n",
    "\n",
    "# Set up the decoder, using [h, c] as initial state.\n",
    "decoder_inputs_placeholder = Input(shape=(max_len_target,))\n",
    "\n",
    "# this word embedding will not use pre-trained vectors\n",
    "# although you could\n",
    "decoder_embedding = Embedding(num_words_output, LATENT_DIM)\n",
    "decoder_inputs_x = decoder_embedding(decoder_inputs_placeholder)\n",
    "\n",
    "decoder_inputs_x = Dropout(0.5)(decoder_inputs_x)\n",
    "\n",
    "# since the decoder is a \"to-many\" model we want to have\n",
    "# return_sequences=True\n",
    "decoder_lstm = LSTM(\n",
    "  LATENT_DIM,\n",
    "  return_sequences=True,\n",
    "  return_state=True,\n",
    "  #dropout=0.5 # dropout not available on gpu\n",
    ")\n",
    "decoder_outputs, _, _ = decoder_lstm(\n",
    "  decoder_inputs_x,\n",
    "  initial_state=encoder_states\n",
    ")\n",
    "\n",
    "\n",
    "# decoder_outputs, _ = decoder_gru(\n",
    "#   decoder_inputs_x,\n",
    "#   initial_state=encoder_states\n",
    "# )\n",
    "\n",
    "# final dense layer for predictions\n",
    "decoder_dense = Dense(num_words_output, activation='softmax')\n",
    "decoder_outputs = decoder_dense(decoder_outputs)\n",
    "\n",
    "# Create the model object\n",
    "model = Model([encoder_inputs_placeholder, decoder_inputs_placeholder], decoder_outputs)\n",
    "\n",
    "# Compile the model and train it\n",
    "model.compile(\n",
    "  optimizer='rmsprop',\n",
    "  loss='categorical_crossentropy',\n",
    "  metrics=['accuracy']\n",
    ")\n",
    "\n",
    "model.summary()"
   ]
  },
  {
   "cell_type": "code",
   "execution_count": 18,
   "metadata": {
    "scrolled": true
   },
   "outputs": [
    {
     "name": "stdout",
     "output_type": "stream",
     "text": [
      "Train on 8000 samples, validate on 2000 samples\n",
      "Epoch 1/100\n",
      "8000/8000 [==============================] - 14s 2ms/step - loss: 2.6597 - acc: 0.6569 - val_loss: 2.6238 - val_acc: 0.6583\n",
      "Epoch 2/100\n",
      "8000/8000 [==============================] - 11s 1ms/step - loss: 2.0492 - acc: 0.7133 - val_loss: 2.4418 - val_acc: 0.6733\n",
      "Epoch 3/100\n",
      "8000/8000 [==============================] - 11s 1ms/step - loss: 1.8547 - acc: 0.7296 - val_loss: 2.3380 - val_acc: 0.6888\n",
      "Epoch 4/100\n",
      "8000/8000 [==============================] - 11s 1ms/step - loss: 1.7162 - acc: 0.7454 - val_loss: 2.2420 - val_acc: 0.7017\n",
      "Epoch 5/100\n",
      "8000/8000 [==============================] - 11s 1ms/step - loss: 1.6023 - acc: 0.7560 - val_loss: 2.1773 - val_acc: 0.7114\n",
      "Epoch 6/100\n",
      "8000/8000 [==============================] - 11s 1ms/step - loss: 1.5034 - acc: 0.7659 - val_loss: 2.1134 - val_acc: 0.7178\n",
      "Epoch 7/100\n",
      "8000/8000 [==============================] - 11s 1ms/step - loss: 1.4203 - acc: 0.7737 - val_loss: 2.1040 - val_acc: 0.7238\n",
      "Epoch 8/100\n",
      "8000/8000 [==============================] - 11s 1ms/step - loss: 1.3488 - acc: 0.7817 - val_loss: 2.0719 - val_acc: 0.7290\n",
      "Epoch 9/100\n",
      "8000/8000 [==============================] - 11s 1ms/step - loss: 1.2875 - acc: 0.7895 - val_loss: 2.0577 - val_acc: 0.7320\n",
      "Epoch 10/100\n",
      "8000/8000 [==============================] - 11s 1ms/step - loss: 1.2344 - acc: 0.7947 - val_loss: 2.0591 - val_acc: 0.7347\n",
      "Epoch 11/100\n",
      "8000/8000 [==============================] - 11s 1ms/step - loss: 1.1871 - acc: 0.8008 - val_loss: 2.0670 - val_acc: 0.7335\n",
      "Epoch 12/100\n",
      "8000/8000 [==============================] - 11s 1ms/step - loss: 1.1458 - acc: 0.8041 - val_loss: 2.0772 - val_acc: 0.7347\n",
      "Epoch 13/100\n",
      "8000/8000 [==============================] - 11s 1ms/step - loss: 1.1085 - acc: 0.8101 - val_loss: 2.0700 - val_acc: 0.7355\n",
      "Epoch 14/100\n",
      "8000/8000 [==============================] - 11s 1ms/step - loss: 1.0739 - acc: 0.8130 - val_loss: 2.0808 - val_acc: 0.7334\n",
      "Epoch 15/100\n",
      "8000/8000 [==============================] - 11s 1ms/step - loss: 1.0374 - acc: 0.8182 - val_loss: 2.0679 - val_acc: 0.7318\n",
      "Epoch 16/100\n",
      "8000/8000 [==============================] - 11s 1ms/step - loss: 1.0033 - acc: 0.8222 - val_loss: 2.0846 - val_acc: 0.7300\n",
      "Epoch 17/100\n",
      "8000/8000 [==============================] - 11s 1ms/step - loss: 0.9758 - acc: 0.8262 - val_loss: 2.1120 - val_acc: 0.7262\n",
      "Epoch 18/100\n",
      "8000/8000 [==============================] - 11s 1ms/step - loss: 0.9489 - acc: 0.8298 - val_loss: 2.1016 - val_acc: 0.7268\n",
      "Epoch 19/100\n",
      "8000/8000 [==============================] - 11s 1ms/step - loss: 0.9227 - acc: 0.8338 - val_loss: 2.1128 - val_acc: 0.7279\n",
      "Epoch 20/100\n",
      "8000/8000 [==============================] - 11s 1ms/step - loss: 0.8990 - acc: 0.8365 - val_loss: 2.1079 - val_acc: 0.7269\n",
      "Epoch 21/100\n",
      "8000/8000 [==============================] - 11s 1ms/step - loss: 0.8752 - acc: 0.8396 - val_loss: 2.1428 - val_acc: 0.7248\n",
      "Epoch 22/100\n",
      "8000/8000 [==============================] - 11s 1ms/step - loss: 0.8518 - acc: 0.8435 - val_loss: 2.1511 - val_acc: 0.7261\n",
      "Epoch 23/100\n",
      "8000/8000 [==============================] - 11s 1ms/step - loss: 0.8338 - acc: 0.8464 - val_loss: 2.1284 - val_acc: 0.7272\n",
      "Epoch 24/100\n",
      "8000/8000 [==============================] - 11s 1ms/step - loss: 0.8168 - acc: 0.8493 - val_loss: 2.1704 - val_acc: 0.7273\n",
      "Epoch 25/100\n",
      "8000/8000 [==============================] - 12s 1ms/step - loss: 0.7970 - acc: 0.8517 - val_loss: 2.1617 - val_acc: 0.7291\n",
      "Epoch 26/100\n",
      "8000/8000 [==============================] - 12s 1ms/step - loss: 0.7803 - acc: 0.8539 - val_loss: 2.1815 - val_acc: 0.7283\n",
      "Epoch 27/100\n",
      "8000/8000 [==============================] - 12s 1ms/step - loss: 0.7658 - acc: 0.8563 - val_loss: 2.1767 - val_acc: 0.7299\n",
      "Epoch 28/100\n",
      "8000/8000 [==============================] - 12s 1ms/step - loss: 0.7492 - acc: 0.8594 - val_loss: 2.1956 - val_acc: 0.7293\n",
      "Epoch 29/100\n",
      "8000/8000 [==============================] - 12s 1ms/step - loss: 0.7323 - acc: 0.8610 - val_loss: 2.1873 - val_acc: 0.7303\n",
      "Epoch 30/100\n",
      "8000/8000 [==============================] - 12s 1ms/step - loss: 0.7217 - acc: 0.8629 - val_loss: 2.2139 - val_acc: 0.7293\n",
      "Epoch 31/100\n",
      "8000/8000 [==============================] - 12s 1ms/step - loss: 0.7080 - acc: 0.8659 - val_loss: 2.2080 - val_acc: 0.7294\n",
      "Epoch 32/100\n",
      "8000/8000 [==============================] - 12s 1ms/step - loss: 0.6972 - acc: 0.8669 - val_loss: 2.2117 - val_acc: 0.7298\n",
      "Epoch 33/100\n",
      "8000/8000 [==============================] - 12s 1ms/step - loss: 0.6833 - acc: 0.8695 - val_loss: 2.2287 - val_acc: 0.7314\n",
      "Epoch 34/100\n",
      "8000/8000 [==============================] - 12s 1ms/step - loss: 0.6690 - acc: 0.8715 - val_loss: 2.2225 - val_acc: 0.7312\n",
      "Epoch 35/100\n",
      "8000/8000 [==============================] - 12s 1ms/step - loss: 0.6583 - acc: 0.8725 - val_loss: 2.2462 - val_acc: 0.7302\n",
      "Epoch 36/100\n",
      "8000/8000 [==============================] - 12s 1ms/step - loss: 0.6437 - acc: 0.8752 - val_loss: 2.2333 - val_acc: 0.7320\n",
      "Epoch 37/100\n",
      "8000/8000 [==============================] - 12s 1ms/step - loss: 0.6310 - acc: 0.8764 - val_loss: 2.2513 - val_acc: 0.7319\n",
      "Epoch 38/100\n",
      "8000/8000 [==============================] - 12s 1ms/step - loss: 0.6241 - acc: 0.8777 - val_loss: 2.2620 - val_acc: 0.7301\n",
      "Epoch 39/100\n",
      "8000/8000 [==============================] - 12s 1ms/step - loss: 0.6147 - acc: 0.8799 - val_loss: 2.2584 - val_acc: 0.7321\n",
      "Epoch 40/100\n",
      "8000/8000 [==============================] - 12s 1ms/step - loss: 0.6090 - acc: 0.8810 - val_loss: 2.2758 - val_acc: 0.7311\n",
      "Epoch 41/100\n",
      "8000/8000 [==============================] - 12s 1ms/step - loss: 0.6008 - acc: 0.8817 - val_loss: 2.2780 - val_acc: 0.7319\n",
      "Epoch 42/100\n",
      "8000/8000 [==============================] - 12s 1ms/step - loss: 0.5923 - acc: 0.8841 - val_loss: 2.3021 - val_acc: 0.7303\n",
      "Epoch 43/100\n",
      "8000/8000 [==============================] - 12s 1ms/step - loss: 0.5851 - acc: 0.8837 - val_loss: 2.2971 - val_acc: 0.7319\n",
      "Epoch 44/100\n",
      "8000/8000 [==============================] - 12s 1ms/step - loss: 0.5785 - acc: 0.8850 - val_loss: 2.2925 - val_acc: 0.7325\n",
      "Epoch 45/100\n",
      "8000/8000 [==============================] - 12s 1ms/step - loss: 0.5682 - acc: 0.8872 - val_loss: 2.3044 - val_acc: 0.7311\n",
      "Epoch 46/100\n",
      "8000/8000 [==============================] - 12s 1ms/step - loss: 0.5627 - acc: 0.8873 - val_loss: 2.3072 - val_acc: 0.7303\n",
      "Epoch 47/100\n",
      "8000/8000 [==============================] - 12s 1ms/step - loss: 0.5523 - acc: 0.8901 - val_loss: 2.3109 - val_acc: 0.7319\n",
      "Epoch 48/100\n",
      "8000/8000 [==============================] - 12s 1ms/step - loss: 0.5455 - acc: 0.8909 - val_loss: 2.3075 - val_acc: 0.7296\n",
      "Epoch 49/100\n",
      "8000/8000 [==============================] - 12s 1ms/step - loss: 0.5354 - acc: 0.8923 - val_loss: 2.3133 - val_acc: 0.7309\n",
      "Epoch 50/100\n",
      "8000/8000 [==============================] - 12s 1ms/step - loss: 0.5296 - acc: 0.8934 - val_loss: 2.3277 - val_acc: 0.7326\n",
      "Epoch 51/100\n",
      "8000/8000 [==============================] - 12s 1ms/step - loss: 0.5250 - acc: 0.8943 - val_loss: 2.3229 - val_acc: 0.7334\n",
      "Epoch 52/100\n",
      "8000/8000 [==============================] - 12s 1ms/step - loss: 0.5187 - acc: 0.8958 - val_loss: 2.3257 - val_acc: 0.7311\n",
      "Epoch 53/100\n",
      "8000/8000 [==============================] - 12s 1ms/step - loss: 0.5126 - acc: 0.8972 - val_loss: 2.3426 - val_acc: 0.7311\n",
      "Epoch 54/100\n",
      "8000/8000 [==============================] - 12s 1ms/step - loss: 0.5076 - acc: 0.8971 - val_loss: 2.3417 - val_acc: 0.7316\n",
      "Epoch 55/100\n",
      "8000/8000 [==============================] - 12s 1ms/step - loss: 0.5023 - acc: 0.8989 - val_loss: 2.3178 - val_acc: 0.7321\n",
      "Epoch 56/100\n",
      "8000/8000 [==============================] - 12s 1ms/step - loss: 0.4977 - acc: 0.8984 - val_loss: 2.3420 - val_acc: 0.7314\n",
      "Epoch 57/100\n",
      "8000/8000 [==============================] - 12s 1ms/step - loss: 0.4940 - acc: 0.9009 - val_loss: 2.3561 - val_acc: 0.7309\n",
      "Epoch 58/100\n",
      "8000/8000 [==============================] - 12s 1ms/step - loss: 0.4916 - acc: 0.8998 - val_loss: 2.3732 - val_acc: 0.7312\n",
      "Epoch 59/100\n",
      "8000/8000 [==============================] - 12s 1ms/step - loss: 0.4880 - acc: 0.9023 - val_loss: 2.3688 - val_acc: 0.7293\n",
      "Epoch 60/100\n"
     ]
    },
    {
     "name": "stdout",
     "output_type": "stream",
     "text": [
      "8000/8000 [==============================] - 12s 1ms/step - loss: 0.4831 - acc: 0.9018 - val_loss: 2.3677 - val_acc: 0.7312\n",
      "Epoch 61/100\n",
      "8000/8000 [==============================] - 12s 1ms/step - loss: 0.4781 - acc: 0.9032 - val_loss: 2.3833 - val_acc: 0.7299\n",
      "Epoch 62/100\n",
      "8000/8000 [==============================] - 12s 1ms/step - loss: 0.4754 - acc: 0.9044 - val_loss: 2.3735 - val_acc: 0.7313\n",
      "Epoch 63/100\n",
      "8000/8000 [==============================] - 12s 1ms/step - loss: 0.4711 - acc: 0.9050 - val_loss: 2.4052 - val_acc: 0.7299\n",
      "Epoch 64/100\n",
      "8000/8000 [==============================] - 12s 1ms/step - loss: 0.4679 - acc: 0.9061 - val_loss: 2.4028 - val_acc: 0.7303\n",
      "Epoch 65/100\n",
      "8000/8000 [==============================] - 12s 1ms/step - loss: 0.4635 - acc: 0.9065 - val_loss: 2.4095 - val_acc: 0.7311\n",
      "Epoch 66/100\n",
      "8000/8000 [==============================] - 12s 1ms/step - loss: 0.4607 - acc: 0.9071 - val_loss: 2.3960 - val_acc: 0.7297\n",
      "Epoch 67/100\n",
      "8000/8000 [==============================] - 12s 1ms/step - loss: 0.4568 - acc: 0.9082 - val_loss: 2.4087 - val_acc: 0.7312\n",
      "Epoch 68/100\n",
      "8000/8000 [==============================] - 12s 1ms/step - loss: 0.4544 - acc: 0.9073 - val_loss: 2.4176 - val_acc: 0.7307\n",
      "Epoch 69/100\n",
      "8000/8000 [==============================] - 12s 1ms/step - loss: 0.4509 - acc: 0.9080 - val_loss: 2.3908 - val_acc: 0.7314\n",
      "Epoch 70/100\n",
      "8000/8000 [==============================] - 12s 1ms/step - loss: 0.4504 - acc: 0.9093 - val_loss: 2.4119 - val_acc: 0.7308\n",
      "Epoch 71/100\n",
      "8000/8000 [==============================] - 12s 1ms/step - loss: 0.4457 - acc: 0.9102 - val_loss: 2.4146 - val_acc: 0.7306\n",
      "Epoch 72/100\n",
      "8000/8000 [==============================] - 12s 1ms/step - loss: 0.4441 - acc: 0.9105 - val_loss: 2.4237 - val_acc: 0.7303\n",
      "Epoch 73/100\n",
      "8000/8000 [==============================] - 12s 1ms/step - loss: 0.4440 - acc: 0.9104 - val_loss: 2.4198 - val_acc: 0.7309\n",
      "Epoch 74/100\n",
      "8000/8000 [==============================] - 12s 1ms/step - loss: 0.4385 - acc: 0.9115 - val_loss: 2.4068 - val_acc: 0.7305\n",
      "Epoch 75/100\n",
      "8000/8000 [==============================] - 12s 1ms/step - loss: 0.4360 - acc: 0.9134 - val_loss: 2.4264 - val_acc: 0.7318\n",
      "Epoch 76/100\n",
      "8000/8000 [==============================] - 12s 1ms/step - loss: 0.4354 - acc: 0.9123 - val_loss: 2.4257 - val_acc: 0.7302\n",
      "Epoch 77/100\n",
      "8000/8000 [==============================] - 12s 1ms/step - loss: 0.4308 - acc: 0.9131 - val_loss: 2.4324 - val_acc: 0.7292\n",
      "Epoch 78/100\n",
      "8000/8000 [==============================] - 12s 1ms/step - loss: 0.4300 - acc: 0.9133 - val_loss: 2.4212 - val_acc: 0.7294\n",
      "Epoch 79/100\n",
      "8000/8000 [==============================] - 12s 1ms/step - loss: 0.4291 - acc: 0.9133 - val_loss: 2.4219 - val_acc: 0.7312\n",
      "Epoch 80/100\n",
      "8000/8000 [==============================] - 12s 1ms/step - loss: 0.4234 - acc: 0.9149 - val_loss: 2.4342 - val_acc: 0.7303\n",
      "Epoch 81/100\n",
      "8000/8000 [==============================] - 12s 1ms/step - loss: 0.4257 - acc: 0.9139 - val_loss: 2.4337 - val_acc: 0.7293\n",
      "Epoch 82/100\n",
      "8000/8000 [==============================] - 12s 1ms/step - loss: 0.4228 - acc: 0.9147 - val_loss: 2.4550 - val_acc: 0.7299\n",
      "Epoch 83/100\n",
      "8000/8000 [==============================] - 12s 1ms/step - loss: 0.4233 - acc: 0.9155 - val_loss: 2.4424 - val_acc: 0.7295\n",
      "Epoch 84/100\n",
      "8000/8000 [==============================] - 12s 1ms/step - loss: 0.4205 - acc: 0.9157 - val_loss: 2.4456 - val_acc: 0.7291\n",
      "Epoch 85/100\n",
      "8000/8000 [==============================] - 12s 1ms/step - loss: 0.4184 - acc: 0.9157 - val_loss: 2.4577 - val_acc: 0.7296\n",
      "Epoch 86/100\n",
      "8000/8000 [==============================] - 12s 1ms/step - loss: 0.4141 - acc: 0.9168 - val_loss: 2.4620 - val_acc: 0.7304\n",
      "Epoch 87/100\n",
      "8000/8000 [==============================] - 12s 1ms/step - loss: 0.4118 - acc: 0.9173 - val_loss: 2.4629 - val_acc: 0.7279\n",
      "Epoch 88/100\n",
      "8000/8000 [==============================] - 12s 1ms/step - loss: 0.4115 - acc: 0.9169 - val_loss: 2.4524 - val_acc: 0.7279\n",
      "Epoch 89/100\n",
      "8000/8000 [==============================] - 12s 1ms/step - loss: 0.4086 - acc: 0.9181 - val_loss: 2.4645 - val_acc: 0.7276\n",
      "Epoch 90/100\n",
      "8000/8000 [==============================] - 12s 1ms/step - loss: 0.4062 - acc: 0.9181 - val_loss: 2.4524 - val_acc: 0.7285\n",
      "Epoch 91/100\n",
      "8000/8000 [==============================] - 12s 1ms/step - loss: 0.4049 - acc: 0.9178 - val_loss: 2.4636 - val_acc: 0.7271\n",
      "Epoch 92/100\n",
      "8000/8000 [==============================] - 12s 1ms/step - loss: 0.4041 - acc: 0.9189 - val_loss: 2.4782 - val_acc: 0.7279\n",
      "Epoch 93/100\n",
      "8000/8000 [==============================] - 12s 1ms/step - loss: 0.4040 - acc: 0.9192 - val_loss: 2.4765 - val_acc: 0.7276\n",
      "Epoch 94/100\n",
      "8000/8000 [==============================] - 12s 1ms/step - loss: 0.4020 - acc: 0.9194 - val_loss: 2.4736 - val_acc: 0.7273\n",
      "Epoch 95/100\n",
      "8000/8000 [==============================] - 12s 1ms/step - loss: 0.4042 - acc: 0.9183 - val_loss: 2.4756 - val_acc: 0.7276\n",
      "Epoch 96/100\n",
      "8000/8000 [==============================] - 12s 1ms/step - loss: 0.4015 - acc: 0.9198 - val_loss: 2.4661 - val_acc: 0.7292\n",
      "Epoch 97/100\n",
      "8000/8000 [==============================] - 12s 1ms/step - loss: 0.3999 - acc: 0.9202 - val_loss: 2.4832 - val_acc: 0.7276\n",
      "Epoch 98/100\n",
      "8000/8000 [==============================] - 12s 1ms/step - loss: 0.3999 - acc: 0.9204 - val_loss: 2.4810 - val_acc: 0.7281\n",
      "Epoch 99/100\n",
      "8000/8000 [==============================] - 12s 2ms/step - loss: 0.3982 - acc: 0.9209 - val_loss: 2.4768 - val_acc: 0.72910.92\n",
      "Epoch 100/100\n",
      "8000/8000 [==============================] - 12s 1ms/step - loss: 0.3977 - acc: 0.9203 - val_loss: 2.4777 - val_acc: 0.7283\n"
     ]
    }
   ],
   "source": [
    "r =model.fit([encoder_inputs,decoder_inputs],decoder_targets_one_hot,\n",
    "            batch_size = BATCH_SIZE,\n",
    "            epochs = EPOCHS,\n",
    "            validation_split = 0.2,\n",
    "            verbose = 1)\n"
   ]
  },
  {
   "cell_type": "code",
   "execution_count": 19,
   "metadata": {},
   "outputs": [
    {
     "data": {
      "image/png": "[encoded data removed]",
      "text/plain": [
       "<Figure size 432x288 with 1 Axes>"
      ]
     },
     "metadata": {},
     "output_type": "display_data"
    },
    {
     "data": {
      "image/png": "[encoded data removed]",
      "text/plain": [
       "<Figure size 432x288 with 1 Axes>"
      ]
     },
     "metadata": {},
     "output_type": "display_data"
    }
   ],
   "source": [
    "# plot some data\n",
    "plt.plot(r.history['loss'], label='loss')\n",
    "plt.plot(r.history['val_loss'], label='val_loss')\n",
    "plt.legend()\n",
    "plt.show()\n",
    "\n",
    "# accuracies\n",
    "plt.plot(r.history['acc'], label='acc')\n",
    "plt.plot(r.history['val_acc'], label='val_acc')\n",
    "plt.legend()\n",
    "plt.show()"
   ]
  },
  {
   "cell_type": "markdown",
   "metadata": {},
   "source": [
    "#### Create Predicting Model\n",
    "\n",
    "- we need to create another model that can take in the RNN state and previous word as input and accept a T=1 sequence.\n",
    "- The encoder will be stand-alone\n",
    "- From this we will get our initial decoder hidden state\n",
    "\n",
    "- decoder_output shape = (number of samples, time steps, number of words)\n",
    "- Predict words by argmax (highest probability)\n",
    "\n",
    "- word index start from 1"
   ]
  },
  {
   "cell_type": "code",
   "execution_count": 53,
   "metadata": {},
   "outputs": [],
   "source": [
    "## encoder_model 輸出encoder states\n",
    "encoder_model = Model(encoder_inputs_placeholder,encoder_states)\n",
    "\n",
    "decoder_state_input_h = Input(shape = (LATENT_DIM,))\n",
    "decoder_state_input_c = Input(shape = (LATENT_DIM,))\n",
    "decoder_state_inputs = [decoder_state_input_c,decoder_state_input_h]\n",
    "# decoder_states_inputs = [decoder_state_input_h] # gru\n",
    "decoder_inputs_single = Input(shape = (1,))\n",
    "decoder_inputs_single_x = decoder_embedding(decoder_inputs_single)\n",
    "\n",
    "\n",
    "# this time, we want to keep the states too, to be output\n",
    "# by our sampling model\n",
    "\n",
    "decoder_outputs,h,c = decoder_lstm(decoder_inputs_single_x, initial_state = decoder_state_inputs)\n",
    "\n",
    "# decoder_outputs, state_h = decoder_lstm(\n",
    "#   decoder_inputs_single_x,\n",
    "#   initial_state=decoder_states_inputs\n",
    "# ) #gru\n",
    "\n",
    "\n",
    "decoder_states = [h,c]\n",
    "# decoder_states = [h] # gru\n",
    "decoder_outputs = decoder_dense(decoder_outputs)\n",
    "\n",
    "# The sampling model\n",
    "# inputs: y(t-1), h(t-1), c(t-1)\n",
    "# outputs: y(t), h(t), c(t)\n",
    "\n",
    "\n",
    "decoder_model = Model([decoder_inputs_single]+decoder_state_inputs,\n",
    "                     [decoder_outputs]+decoder_states)\n",
    "\n",
    "\n",
    "# map indexes back into real words\n",
    "# so we can view the results\n",
    "idx2word_eng = {v:k for k, v in word2idx_inputs.items()}\n",
    "idx2word_trans = {v:k for k, v in word2idx_outputs.items()}\n",
    "\n",
    "\n",
    "def decode_sequence(input_seq):\n",
    "    \n",
    "    # Encode the input as state vectors.\n",
    "    states_value = encoder_model.predict(input_seq)\n",
    "    \n",
    "    # Generate empty target sequence of length 1.\n",
    "    target_seq = np.zeros((1,1))\n",
    "    # Populate the first character of target sequence with the start character.\n",
    "    # NOTE: tokenizer lower-cases all words\n",
    "    \n",
    "    target_seq[0,0] = word2idx_outputs['<sos>']\n",
    "    \n",
    "    # if we get this we break\n",
    "    eos = word2idx_outputs['<eos>']\n",
    "    \n",
    "    # Create the translation\n",
    "    \n",
    "    output_sentence = []\n",
    "    \n",
    "    for _ in range(max_len_target):\n",
    "        output_tokens,h,c = decoder_model.predict([target_seq]+states_value)\n",
    "        \n",
    "      # output_tokens, h = decoder_model.predict(\n",
    "     #     [target_seq] + states_value\n",
    "     # ) # gru   \n",
    "    \n",
    "    # Get next word\n",
    "\n",
    "        idx = np.argmax(output_tokens[0,0,:])\n",
    "        \n",
    "        ## End sentence of EOS\n",
    "        if eos == idx:\n",
    "            break\n",
    "            \n",
    "        word = ''\n",
    "        if idx >0:\n",
    "            word = idx2word_trans[idx]\n",
    "            output_sentence.append(word)\n",
    "            \n",
    "           # Update the decoder input\n",
    "    # which is just the word just generated\n",
    "        target_seq[0,0] = idx\n",
    "    \n",
    "        states_value = [h,c]\n",
    "        # states_value = [h] # gru\n",
    "        \n",
    "    return ' '.join(output_sentence)"
   ]
  },
  {
   "cell_type": "markdown",
   "metadata": {},
   "source": [
    "#### Sampling test (text from input)"
   ]
  },
  {
   "cell_type": "code",
   "execution_count": 56,
   "metadata": {},
   "outputs": [
    {
     "name": "stdout",
     "output_type": "stream",
     "text": [
      "-\n",
      "Input : His ID was fake.\n",
      "Translation: su identificación era era ese no le sabía.\n",
      "\n"
     ]
    }
   ],
   "source": [
    "\n",
    "\n",
    "i = np.random.choice(len(input_texts))\n",
    "input_seq = encoder_inputs[i:i+1]\n",
    "translation = decode_sequence(input_seq)\n",
    "\n",
    "print('-')\n",
    "print('Input :',input_texts[i])\n",
    "print('Translation:', translation)\n",
    "\n"
   ]
  }
 ],
 "metadata": {
  "kernelspec": {
   "display_name": "Python 3",
   "language": "python",
   "name": "python3"
  },
  "language_info": {
   "codemirror_mode": {
    "name": "ipython",
    "version": 3
   },
   "file_extension": ".py",
   "mimetype": "text/x-python",
   "name": "python",
   "nbconvert_exporter": "python",
   "pygments_lexer": "ipython3",
   "version": "3.5.5"
  }
 },
 "nbformat": 4,
 "nbformat_minor": 2
}
